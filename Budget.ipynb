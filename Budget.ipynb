{
  "nbformat": 4,
  "nbformat_minor": 0,
  "metadata": {
    "colab": {
      "name": "BudgetCalc",
      "provenance": [],
      "authorship_tag": "ABX9TyNrY3d4nMEOaVXsDwqhSbF4",
      "include_colab_link": true
    },
    "kernelspec": {
      "name": "python3",
      "display_name": "Python 3"
    },
    "language_info": {
      "name": "python"
    }
  },
  "cells": [
    {
      "cell_type": "markdown",
      "metadata": {
        "id": "view-in-github",
        "colab_type": "text"
      },
      "source": [
        "<a href=\"https://colab.research.google.com/github/jcwill415/yfinance/blob/master/Budget.ipynb\" target=\"_parent\"><img src=\"https://colab.research.google.com/assets/colab-badge.svg\" alt=\"Open In Colab\"/></a>"
      ]
    },
    {
      "cell_type": "code",
      "metadata": {
        "colab": {
          "base_uri": "https://localhost:8080/",
          "height": 235
        },
        "id": "fMZCF3xmvWBd",
        "outputId": "df58f8f5-a159-412d-e598-a8c74879b0ec"
      },
      "source": [
        "import pandas as pd\n",
        "import matplotlib.pyplot as plt\n",
        "\n",
        "# read in file\n",
        "df = pd.read_csv('cashflow.csv', index_col ='Date', \n",
        "parse_dates = True)\n",
        "df.head()"
      ],
      "execution_count": 5,
      "outputs": [
        {
          "output_type": "execute_result",
          "data": {
            "text/html": [
              "<div>\n",
              "<style scoped>\n",
              "    .dataframe tbody tr th:only-of-type {\n",
              "        vertical-align: middle;\n",
              "    }\n",
              "\n",
              "    .dataframe tbody tr th {\n",
              "        vertical-align: top;\n",
              "    }\n",
              "\n",
              "    .dataframe thead th {\n",
              "        text-align: right;\n",
              "    }\n",
              "</style>\n",
              "<table border=\"1\" class=\"dataframe\">\n",
              "  <thead>\n",
              "    <tr style=\"text-align: right;\">\n",
              "      <th></th>\n",
              "      <th>Amount</th>\n",
              "      <th>Category</th>\n",
              "      <th>Transaction Type</th>\n",
              "    </tr>\n",
              "    <tr>\n",
              "      <th>Date</th>\n",
              "      <th></th>\n",
              "      <th></th>\n",
              "      <th></th>\n",
              "    </tr>\n",
              "  </thead>\n",
              "  <tbody>\n",
              "    <tr>\n",
              "      <th>2021-03-01</th>\n",
              "      <td>-1000.0</td>\n",
              "      <td>housing</td>\n",
              "      <td>Expense</td>\n",
              "    </tr>\n",
              "    <tr>\n",
              "      <th>2021-03-02</th>\n",
              "      <td>-200.0</td>\n",
              "      <td>groceries</td>\n",
              "      <td>Expense</td>\n",
              "    </tr>\n",
              "    <tr>\n",
              "      <th>2021-03-03</th>\n",
              "      <td>-160.0</td>\n",
              "      <td>car_insurance</td>\n",
              "      <td>Expense</td>\n",
              "    </tr>\n",
              "    <tr>\n",
              "      <th>2021-03-04</th>\n",
              "      <td>-90.0</td>\n",
              "      <td>phone_bill</td>\n",
              "      <td>Expense</td>\n",
              "    </tr>\n",
              "    <tr>\n",
              "      <th>2021-03-05</th>\n",
              "      <td>-50.0</td>\n",
              "      <td>health_insurance</td>\n",
              "      <td>Expense</td>\n",
              "    </tr>\n",
              "  </tbody>\n",
              "</table>\n",
              "</div>"
            ],
            "text/plain": [
              "            Amount          Category Transaction Type\n",
              "Date                                                 \n",
              "2021-03-01 -1000.0           housing          Expense\n",
              "2021-03-02  -200.0         groceries          Expense\n",
              "2021-03-03  -160.0     car_insurance          Expense\n",
              "2021-03-04   -90.0        phone_bill          Expense\n",
              "2021-03-05   -50.0  health_insurance          Expense"
            ]
          },
          "metadata": {
            "tags": []
          },
          "execution_count": 5
        }
      ]
    },
    {
      "cell_type": "code",
      "metadata": {
        "colab": {
          "base_uri": "https://localhost:8080/"
        },
        "id": "LSmulj8Ov9NH",
        "outputId": "1076a04a-7992-43b9-c962-f5d9e4a44bf2"
      },
      "source": [
        "# Average spending per expense category\n",
        "avg_spending_cat = df.groupby('Category').mean().sort_values(by='Amount')\n",
        "print(avg_spending_cat)"
      ],
      "execution_count": 4,
      "outputs": [
        {
          "output_type": "stream",
          "text": [
            "                  Amount\n",
            "Category                \n",
            "housing          -1000.0\n",
            "debt              -500.0\n",
            "groceries         -200.0\n",
            "car_insurance     -160.0\n",
            "clothing          -100.0\n",
            "savings           -100.0\n",
            "emergency_fund    -100.0\n",
            "stocks            -100.0\n",
            "phone_bill         -90.0\n",
            "health_insurance   -50.0\n",
            "gas                -50.0\n",
            "night_out          -40.0\n",
            "charity            -30.0\n",
            "cc_membership      -20.0\n",
            "gym_membership     -15.0\n",
            "snacks             -15.0\n",
            "netflix             -5.0\n",
            "phone_apps          -5.0\n",
            "dividends           30.0\n",
            "cashflow_re        300.0\n",
            "freelance         1500.0\n",
            "work              3000.0\n"
          ],
          "name": "stdout"
        }
      ]
    },
    {
      "cell_type": "code",
      "metadata": {
        "id": "3jmNk47CzD32"
      },
      "source": [
        ""
      ],
      "execution_count": null,
      "outputs": []
    },
    {
      "cell_type": "code",
      "metadata": {
        "id": "NI2THovPv-Hs"
      },
      "source": [
        "# Sum Expense & Income \n",
        "sum_transactions = df.groupby('Transaction Type').sum().sort_values(by='Amount')\n",
        "print(sum_transactions)"
      ],
      "execution_count": null,
      "outputs": []
    },
    {
      "cell_type": "code",
      "metadata": {
        "id": "NBIQNBKGwA8X"
      },
      "source": [
        "# Calculate Savings (sum column \"Amount\" to add expenses vs income; positive = savings)\n",
        "column_name = \"Amount\"\n",
        "calc_savings = df[column_name].sum()\n",
        "print(calc_savings)"
      ],
      "execution_count": null,
      "outputs": []
    }
  ]
}